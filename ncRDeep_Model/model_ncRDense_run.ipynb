{
 "cells": [
  {
   "cell_type": "code",
   "execution_count": 1,
   "metadata": {},
   "outputs": [],
   "source": [
    "import tensorflow as tf\n",
    "import numpy as np\n",
    "import itertools\n",
    "import h5py as h5"
   ]
  },
  {
   "cell_type": "code",
   "execution_count": 5,
   "metadata": {},
   "outputs": [],
   "source": [
    "from keras.models import Model\n",
    "from keras.layers import Conv2D, MaxPooling2D, Conv1D, MaxPooling1D\n",
    "from keras import initializers, optimizers\n",
    "from keras.layers import Input, BatchNormalization\n",
    "from keras.layers import  Dense, Flatten, Activation, Dropout, Embedding\n",
    "from keras.layers import LSTM, TimeDistributed, Permute,Reshape, Lambda, RepeatVector, merge, Input,Multiply\n",
    "from keras.utils import np_utils\n",
    "from keras.layers.wrappers import  Bidirectional\n",
    "from keras.layers import *\n",
    "from keras import *\n",
    "from keras.models import Model\n",
    "from keras.callbacks import ModelCheckpoint, EarlyStopping\n",
    "from keras.regularizers import l2 \n",
    "from keras.models import load_model\n",
    "from keras.models import model_from_json\n",
    "import keras"
   ]
  },
  {
   "cell_type": "code",
   "execution_count": 3,
   "metadata": {},
   "outputs": [],
   "source": [
    "from os import listdir\n",
    "from os.path import isfile, join\n",
    "import glob\n",
    "import os\n",
    "os.environ[\"CUDA_DEVICE_ORDER\"]=\"PCI_BUS_ID\"   \n",
    "os.environ[\"CUDA_VISIBLE_DEVICES\"]=\"7\""
   ]
  },
  {
   "cell_type": "code",
   "execution_count": 8,
   "metadata": {},
   "outputs": [],
   "source": [
    "List_A_Four = [1, 0, 0, 0]\n",
    "List_U_Four = [0, 0, 1, 0]\n",
    "List_G_Four = [0, 1, 0, 0]\n",
    "List_C_Four = [0, 0, 0, 1]\n",
    "List_N_Four = [0, 0, 0, 0] #The coding rules"
   ]
  },
  {
   "cell_type": "code",
   "execution_count": 41,
   "metadata": {},
   "outputs": [],
   "source": [
    "class_names = ['5S_rRNA', '5.8S_rRNA', 'tRNA', 'ribozymes', 'CD-box', 'miRNA', 'Intron_gpI', 'Intron_gpII', 'HACA-box', 'riboswitch', 'IRES', 'leader', 'scaRNA']"
   ]
  },
  {
   "cell_type": "code",
   "execution_count": 35,
   "metadata": {},
   "outputs": [],
   "source": [
    "def onehot(line):\n",
    "    \n",
    "    List_Matrix = []\n",
    "    for i in range(750):\n",
    "        Tem_List = []\n",
    "        if(i < len(line)-1):\n",
    "            if(line[i] == 'A' or line[i] == 'a'):\n",
    "                Tem_List.append(List_A_Four)\n",
    "            elif (line[i] == 'T' or line[i] == 't'):\n",
    "                Tem_List.append(List_U_Four)\n",
    "            elif (line[i] == 'C' or line[i] == 'c'):\n",
    "                Tem_List.append(List_C_Four)\n",
    "            elif (line[i] == 'G' or line[i] == 'g'):\n",
    "                Tem_List.append(List_G_Four)\n",
    "            else:\n",
    "                Tem_List.append(List_N_Four)\n",
    "        else:\n",
    "            Tem_List.append(List_N_Four)\n",
    "        Tem_List = np.array(Tem_List)\n",
    "        List_Matrix.append(Tem_List)\n",
    "    List_Matrix = np.array(List_Matrix)\n",
    "    List_Matrix = List_Matrix.reshape((1,750,4))\n",
    "    return List_Matrix"
   ]
  },
  {
   "cell_type": "code",
   "execution_count": 6,
   "metadata": {},
   "outputs": [],
   "source": [
    "json_file = open('model_ncRDense.json', 'r')\n",
    "loaded_model_json = json_file.read()\n",
    "json_file.close()\n",
    "loaded_model = model_from_json(loaded_model_json)\n",
    "# load weights into new model\n",
    "loaded_model.load_weights(\"model_ncRDense_weight.h5\")"
   ]
  },
  {
   "cell_type": "code",
   "execution_count": 61,
   "metadata": {},
   "outputs": [
    {
     "name": "stdout",
     "output_type": "stream",
     "text": [
      "5.8S_rRNA\n"
     ]
    }
   ],
   "source": [
    "sequence = 'AATTTTCAACGATGGATGTCTTGGCTCCCATATCGATGAAGAACGCAGCAAGAATGCGATATGCAATGTGAATTGCAGAACCATGAATCATCGGATATTCTAACGTACCTGACACTGGCCTAAACCAGTATACTTGTTTCAGTGTGC'\n",
    "x_test = onehot(sequence)\n",
    "y = loaded_model.predict(x_test)\n",
    "y_predict = np.argmax(y)\n",
    "print(class_names[y_predict])"
   ]
  },
  {
   "cell_type": "code",
   "execution_count": null,
   "metadata": {},
   "outputs": [],
   "source": []
  }
 ],
 "metadata": {
  "kernelspec": {
   "display_name": "Python 2",
   "language": "python",
   "name": "t27"
  },
  "language_info": {
   "codemirror_mode": {
    "name": "ipython",
    "version": 2
   },
   "file_extension": ".py",
   "mimetype": "text/x-python",
   "name": "python",
   "nbconvert_exporter": "python",
   "pygments_lexer": "ipython2",
   "version": "2.7.18"
  }
 },
 "nbformat": 4,
 "nbformat_minor": 2
}
